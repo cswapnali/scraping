{
 "cells": [
  {
   "cell_type": "code",
   "execution_count": 1,
   "id": "d4f0e074",
   "metadata": {},
   "outputs": [],
   "source": [
    "from selenium import webdriver\n",
    "from selenium.webdriver.common.by import By\n",
    "from selenium.webdriver.chrome.service import Service\n",
    "from selenium.webdriver.chrome.options import Options\n",
    "from selenium.webdriver.common.keys import Keys\n",
    "from selenium.webdriver.support.ui import WebDriverWait\n",
    "from selenium.webdriver.support import expected_conditions as EC\n",
    "from webdriver_manager.chrome import ChromeDriverManager\n",
    "from selenium.common.exceptions import StaleElementReferenceException\n",
    "import time"
   ]
  },
  {
   "cell_type": "code",
   "execution_count": 2,
   "id": "29b92c1d",
   "metadata": {},
   "outputs": [],
   "source": [
    "def scrape_data(query):\n",
    "    all_details = []\n",
    "\n",
    "    url = f\"https://www.google.com/search?q={query}\"\n",
    "\n",
    "    chrome_options = Options()\n",
    "    chrome_options.add_argument(\"--disable-popup-blocking\")\n",
    "    browser = webdriver.Chrome(service=Service(ChromeDriverManager().install()), options=chrome_options)\n",
    "\n",
    "    browser.get(url)\n",
    "    browser.maximize_window()\n",
    "    wait = WebDriverWait(browser, 120)\n",
    "\n",
    "    for _ in range(5):\n",
    "        browser.execute_script(\"window.scrollTo(0, document.body.scrollHeight);\")\n",
    "        time.sleep(2)\n",
    "    \n",
    "    heading = browser.find_elements(By.XPATH, \"//h3[@class='LC20lb MBeuO DKV0Md']\")\n",
    "    description = browser.find_elements(By.XPATH, \"//div[@class='VwiC3b yXK7lf lyLwlc yDYNvb W8l4ac lEBKkf']\")\n",
    "    url = browser.find_elements(By.XPATH, \"//a\")\n",
    "\n",
    "    for h, d, u in zip(heading, description, url):\n",
    "        heading = h.text\n",
    "        description = d.text\n",
    "        url = u.get_attribute('href')\n",
    "        \n",
    "        data = {'Headings':heading, 'Descriptions':description, 'URLs':url}\n",
    "        all_details.append(data)\n",
    "        \n",
    "    time.sleep(2)\n",
    "        \n",
    "    browser.quit()\n",
    "    \n",
    "    return all_details"
   ]
  },
  {
   "cell_type": "code",
   "execution_count": 3,
   "id": "2be260c1",
   "metadata": {},
   "outputs": [],
   "source": [
    "query = \"Internshala\"\n",
    "scrapped_data = scrape_data(query)"
   ]
  },
  {
   "cell_type": "code",
   "execution_count": 4,
   "id": "01f71677",
   "metadata": {},
   "outputs": [
    {
     "name": "stdout",
     "output_type": "stream",
     "text": [
      "Data stored in scrapped_data.csv successfully.\n"
     ]
    }
   ],
   "source": [
    "import csv\n",
    "filename = 'scrapped_data.csv'\n",
    "with open(filename, 'w', newline='', encoding='utf-8') as csvfile:\n",
    "    fieldnames = ['Headings', 'Descriptions', 'URLs']\n",
    "    writer = csv.DictWriter(csvfile, fieldnames=fieldnames)\n",
    "    writer.writeheader()\n",
    "    for row in scrapped_data:\n",
    "        writer.writerow(row)\n",
    "\n",
    "print(f\"Data stored in {filename} successfully.\")"
   ]
  },
  {
   "cell_type": "code",
   "execution_count": null,
   "id": "ee788290",
   "metadata": {},
   "outputs": [],
   "source": []
  }
 ],
 "metadata": {
  "kernelspec": {
   "display_name": "Python 3 (ipykernel)",
   "language": "python",
   "name": "python3"
  },
  "language_info": {
   "codemirror_mode": {
    "name": "ipython",
    "version": 3
   },
   "file_extension": ".py",
   "mimetype": "text/x-python",
   "name": "python",
   "nbconvert_exporter": "python",
   "pygments_lexer": "ipython3",
   "version": "3.10.7"
  }
 },
 "nbformat": 4,
 "nbformat_minor": 5
}
